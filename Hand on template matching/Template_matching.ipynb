{
 "cells": [
  {
   "cell_type": "markdown",
   "metadata": {},
   "source": [
    "pip install opencv_python-4.5.5-cp310-cp310-win_amd64.whl"
   ]
  },
  {
   "cell_type": "code",
   "execution_count": 18,
   "metadata": {
    "id": "zAt72qlpKFfd"
   },
   "outputs": [
    {
     "ename": "ImportError",
     "evalue": "DLL load failed while importing cv2: The specified module could not be found.",
     "output_type": "error",
     "traceback": [
      "\u001b[1;31m---------------------------------------------------------------------------\u001b[0m",
      "\u001b[1;31mImportError\u001b[0m                               Traceback (most recent call last)",
      "Cell \u001b[1;32mIn[18], line 1\u001b[0m\n\u001b[1;32m----> 1\u001b[0m \u001b[38;5;28;01mimport\u001b[39;00m \u001b[38;5;21;01mcv2\u001b[39;00m\n\u001b[0;32m      2\u001b[0m \u001b[38;5;28;01mimport\u001b[39;00m \u001b[38;5;21;01mtensorflow\u001b[39;00m\n\u001b[0;32m      3\u001b[0m \u001b[38;5;28;01mimport\u001b[39;00m \u001b[38;5;21;01mnumpy\u001b[39;00m\n",
      "\u001b[1;31mImportError\u001b[0m: DLL load failed while importing cv2: The specified module could not be found."
     ]
    }
   ],
   "source": [
    "import cv2\n",
    "import tensorflow\n",
    "import numpy\n",
    "import pandas\n",
    "import seaborn\n",
    "import matplotlib.pyplot\n",
    "import numpy as np"
   ]
  },
  {
   "cell_type": "code",
   "execution_count": 3,
   "metadata": {
    "id": "Ftxfy95yKTR6"
   },
   "outputs": [
    {
     "ename": "ModuleNotFoundError",
     "evalue": "No module named 'google.colab'",
     "output_type": "error",
     "traceback": [
      "\u001b[1;31m---------------------------------------------------------------------------\u001b[0m",
      "\u001b[1;31mModuleNotFoundError\u001b[0m                       Traceback (most recent call last)",
      "Cell \u001b[1;32mIn[3], line 1\u001b[0m\n\u001b[1;32m----> 1\u001b[0m \u001b[38;5;28;01mfrom\u001b[39;00m \u001b[38;5;21;01mgoogle\u001b[39;00m\u001b[38;5;21;01m.\u001b[39;00m\u001b[38;5;21;01mcolab\u001b[39;00m\u001b[38;5;21;01m.\u001b[39;00m\u001b[38;5;21;01mpatches\u001b[39;00m \u001b[38;5;28;01mimport\u001b[39;00m cv2_imshow \u001b[38;5;66;03m#only used when running in Google Colab\u001b[39;00m\n\u001b[0;32m      2\u001b[0m \u001b[38;5;28;01mdef\u001b[39;00m \u001b[38;5;21mGC_imshow\u001b[39m(title, img ):\n\u001b[0;32m      3\u001b[0m   \u001b[38;5;28mprint\u001b[39m(title)\n",
      "\u001b[1;31mModuleNotFoundError\u001b[0m: No module named 'google.colab'"
     ]
    }
   ],
   "source": [
    "from google.colab.patches import cv2_imshow #only used when running in Google Colab\n",
    "def GC_imshow(title, img ):\n",
    "  print(title)\n",
    "  cv2_imshow(img) #should be changed to c2.imshow when not in Colab"
   ]
  },
  {
   "cell_type": "code",
   "execution_count": 4,
   "metadata": {
    "colab": {
     "base_uri": "https://localhost:8080/"
    },
    "id": "fNFEQ6TfKWEx",
    "outputId": "e94f80be-8283-4103-867e-cf22884160c3"
   },
   "outputs": [
    {
     "ename": "NameError",
     "evalue": "name 'cv2' is not defined",
     "output_type": "error",
     "traceback": [
      "\u001b[1;31m---------------------------------------------------------------------------\u001b[0m",
      "\u001b[1;31mNameError\u001b[0m                                 Traceback (most recent call last)",
      "Cell \u001b[1;32mIn[4], line 4\u001b[0m\n\u001b[0;32m      1\u001b[0m fileName \u001b[38;5;241m=\u001b[39m \u001b[38;5;124m\"\u001b[39m\u001b[38;5;124mt_character.png\u001b[39m\u001b[38;5;124m\"\u001b[39m \u001b[38;5;66;03m#template\u001b[39;00m\n\u001b[0;32m      3\u001b[0m \u001b[38;5;66;03m#RGB images in BGR order in OpenCV\u001b[39;00m\n\u001b[1;32m----> 4\u001b[0m t_character \u001b[38;5;241m=\u001b[39m \u001b[43mcv2\u001b[49m\u001b[38;5;241m.\u001b[39mimread(fileName, cv2\u001b[38;5;241m.\u001b[39mIMREAD_GRAYSCALE)\n\u001b[0;32m      6\u001b[0m \u001b[38;5;66;03m# Print error message if image is null\u001b[39;00m\n\u001b[0;32m      7\u001b[0m \u001b[38;5;28;01mif\u001b[39;00m t_character \u001b[38;5;129;01mis\u001b[39;00m \u001b[38;5;28;01mNone\u001b[39;00m:\n",
      "\u001b[1;31mNameError\u001b[0m: name 'cv2' is not defined"
     ]
    }
   ],
   "source": [
    "fileName = \"t_character.png\" #template\n",
    "\n",
    "#RGB images in BGR order in OpenCV\n",
    "t_character = cv2.imread(fileName, cv2.IMREAD_GRAYSCALE)\n",
    "\n",
    "# Print error message if image is null\n",
    "if t_character is None:\n",
    "    print('Could not read image')\n",
    "else:\n",
    "    print(\"Image file read success...\")"
   ]
  },
  {
   "cell_type": "code",
   "execution_count": 17,
   "metadata": {
    "colab": {
     "base_uri": "https://localhost:8080/"
    },
    "id": "sHbjF6FNLaBp",
    "outputId": "18503a80-763f-41a2-c9ea-84ddc019b93a"
   },
   "outputs": [
    {
     "name": "stdout",
     "output_type": "stream",
     "text": [
      "Image file read success...\n"
     ]
    }
   ],
   "source": [
    "from tempfile import template\n",
    "fileName = \"text_image.png\"\n",
    "\n",
    "#RGB images in BGR order in OpenCV\n",
    "text_image = cv2.imread(fileName, cv2.IMREAD_GRAYSCALE)\n",
    "template_matching_image = text_image\n",
    "\n",
    "# Print error message if image is null\n",
    "if text_image is None:\n",
    "    print('Could not read image')\n",
    "else:\n",
    "    print(\"Image file read success...\")"
   ]
  },
  {
   "cell_type": "code",
   "execution_count": 5,
   "metadata": {
    "id": "PtgXcdAKLsTS"
   },
   "outputs": [],
   "source": [
    "def GCImshow(title, img):\n",
    "    \"\"\"\n",
    "    function to make windows display work in jupyter notebook\n",
    "    - shows image in a separate window,\n",
    "    - waits for any key to close the window.\n",
    "\n",
    "    \"\"\"\n",
    "\n",
    "    cv2.startWindowThread()\n",
    "    GC_imshow(title, img)\n",
    "    cv2.waitKey(0)\n",
    "    cv2.destroyAllWindows()"
   ]
  },
  {
   "cell_type": "code",
   "execution_count": 6,
   "metadata": {
    "colab": {
     "base_uri": "https://localhost:8080/",
     "height": 886
    },
    "id": "KNjD5fXwMDAJ",
    "outputId": "07a173b6-ce62-4744-9b42-17cac9e40ad1"
   },
   "outputs": [
    {
     "name": "stdout",
     "output_type": "stream",
     "text": [
      "Original image\n"
     ]
    },
    {
     "data": {
      "image/png": "[encoded data removed]",
      "text/plain": [
       "<PIL.Image.Image image mode=L size=634x851>"
      ]
     },
     "metadata": {},
     "output_type": "display_data"
    }
   ],
   "source": [
    "GCImshow('Original image', text_image)"
   ]
  },
  {
   "cell_type": "markdown",
   "metadata": {
    "id": "jSSrGYdEa8Dn"
   },
   "source": [
    "---\n",
    "\n"
   ]
  },
  {
   "cell_type": "markdown",
   "metadata": {
    "id": "h184PDQDiVGh"
   },
   "source": [
    "<h1> My own Template matching <h1>"
   ]
  },
  {
   "cell_type": "code",
   "execution_count": 22,
   "metadata": {
    "id": "lNIzGAo6MT2B"
   },
   "outputs": [],
   "source": [
    "import numpy as np\n",
    "R = np.zeros(text_image.shape)\n",
    "#Sliding template through the y-axis\n",
    "for i in range(text_image.shape[0] - t_character.shape[0]):\n",
    "\n",
    "    #Sliding template through the x-axis\n",
    "    for j in range(text_image.shape[1] - t_character.shape[1]):\n",
    "\n",
    "        #Sliding each template pixel and use to calculate the sum square error\n",
    "        for k in range(t_character.shape[0]):\n",
    "            for l in range(t_character.shape[1]):\n",
    "\n",
    "                #Calculate the sum square error to find how it matches.\n",
    "                R[i, j ] += (np.int16(t_character[k, l]) - np.int16(text_image[i+k, j+l]))**2"
   ]
  },
  {
   "cell_type": "code",
   "execution_count": 23,
   "metadata": {
    "colab": {
     "base_uri": "https://localhost:8080/"
    },
    "id": "Fsg2EJXDMdcn",
    "outputId": "f18634b6-3ce1-4447-fe52-c0a542f0d096"
   },
   "outputs": [
    {
     "name": "stdout",
     "output_type": "stream",
     "text": [
      "Character matches =  0\n"
     ]
    }
   ],
   "source": [
    "#Find index of matching\n",
    "count = 0\n",
    "temp = []\n",
    "for i in range(text_image.shape[0]-t_character.shape[0]):\n",
    "    for j in range(text_image.shape[1]-t_character.shape[1]):\n",
    "        if R[i,j] == 0:\n",
    "            count += 1\n",
    "            temp.append([i, j])\n",
    "            #print(f\"index = {i}, {j}\")\n",
    "print(\"Character matches = \", count)"
   ]
  },
  {
   "cell_type": "code",
   "execution_count": 19,
   "metadata": {
    "id": "S37zMmUYc3SS"
   },
   "outputs": [],
   "source": [
    "#Create boundary of 9*8 (relate to t_character)\n",
    "for i in range(count):\n",
    "    x, y = temp[i]\n",
    "    template_matching_image[x,y:y+8] = 0\n",
    "    template_matching_image[x:x+9,y] = 0\n",
    "    template_matching_image[x+9,y:y+8] = 0\n",
    "    template_matching_image[x:x+9,y+8] = 0"
   ]
  },
  {
   "cell_type": "code",
   "execution_count": 20,
   "metadata": {
    "colab": {
     "base_uri": "https://localhost:8080/"
    },
    "id": "mNfKxtfzZj7S",
    "outputId": "de110b93-c318-4bf1-a893-7e786d74d55b"
   },
   "outputs": [
    {
     "data": {
      "text/plain": [
       "True"
      ]
     },
     "execution_count": 20,
     "metadata": {},
     "output_type": "execute_result"
    }
   ],
   "source": [
    "#Save new image with boundary\n",
    "import cv2\n",
    "import os\n",
    "\n",
    "# Filename\n",
    "filename = 'savedImage.jpg'\n",
    "\n",
    "cv2.imwrite(filename, template_matching_image)"
   ]
  },
  {
   "cell_type": "code",
   "execution_count": 21,
   "metadata": {
    "colab": {
     "base_uri": "https://localhost:8080/",
     "height": 886
    },
    "id": "hmWZpcLfgENZ",
    "outputId": "98457b67-3634-44e0-b66e-37dd0b62b409"
   },
   "outputs": [
    {
     "name": "stdout",
     "output_type": "stream",
     "text": [
      "With boundary\n"
     ]
    },
    {
     "data": {
      "image/png": "[encoded data removed]",
      "text/plain": [
       "<PIL.Image.Image image mode=L size=634x851>"
      ]
     },
     "metadata": {},
     "output_type": "display_data"
    }
   ],
   "source": [
    "GCImshow('With boundary', template_matching_image)"
   ]
  },
  {
   "cell_type": "markdown",
   "metadata": {
    "id": "PuzCotd0a5rG"
   },
   "source": [
    "************************************"
   ]
  },
  {
   "cell_type": "markdown",
   "metadata": {
    "id": "bEsAo8-_au3z"
   },
   "source": [
    "<h1> OpenCV template matching <h1>"
   ]
  },
  {
   "cell_type": "code",
   "execution_count": null,
   "metadata": {
    "id": "N2NP7S9wa7L6"
   },
   "outputs": [],
   "source": []
  }
 ],
 "metadata": {
  "accelerator": "GPU",
  "colab": {
   "gpuType": "T4",
   "provenance": []
  },
  "kernelspec": {
   "display_name": "Python 3 (ipykernel)",
   "language": "python",
   "name": "python3"
  },
  "language_info": {
   "codemirror_mode": {
    "name": "ipython",
    "version": 3
   },
   "file_extension": ".py",
   "mimetype": "text/x-python",
   "name": "python",
   "nbconvert_exporter": "python",
   "pygments_lexer": "ipython3",
   "version": "3.10.14"
  }
 },
 "nbformat": 4,
 "nbformat_minor": 4
}
